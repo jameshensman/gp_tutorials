{
  "cells": [
    {
      "cell_type": "markdown",
      "metadata": {
        "id": "aO7DJSyYXs6n"
      },
      "source": [
        "# Lab session 2: GPs and GP regression with GPflow \n",
        "\n",
        "This tutorial is adapted from the Gaussian Process Summer School that is running at the University of Sheffield since 2013. It also strongly inspired from the gpflow online documentation.\n",
        "\n",
        "The aim of this lab session is to illustrate the concepts seen during the lectures. We will focus on three aspects of GPs: the kernel, the random sample paths and the GP regression model.\n",
        "\n",
        "We assume that GPflow is already installed on your machine and that your are running the 1.0.0 version (or better)\n"
      ]
    },
    {
      "cell_type": "code",
      "execution_count": null,
      "metadata": {
        "id": "VdZB92gdXs6r"
      },
      "outputs": [],
      "source": [
        "# Do it once \n",
        "!pip install gpflow"
      ]
    },
    {
      "cell_type": "code",
      "execution_count": null,
      "metadata": {
        "id": "s28hDNxNXs6t"
      },
      "outputs": [],
      "source": [
        "# set up notebook\n",
        "\n",
        "import numpy as np\n",
        "import gpflow\n",
        "\n",
        "import matplotlib\n",
        "# plt = matplotlib.pyplot\n",
        "import matplotlib.pyplot as plt\n",
        "matplotlib.rcParams['figure.figsize'] = (14, 6)\n",
        "%matplotlib inline"
      ]
    },
    {
      "cell_type": "markdown",
      "metadata": {
        "id": "407omfxLXs6t"
      },
      "source": [
        "## 1.   Getting started: The Covariance Function\n",
        "\n",
        "There are many covariance functions (i.e. kernels) that are already implemented in gpflow, such as \n",
        "\n",
        " - gpflow.kernels.Constant\n",
        "\n",
        " - gpflow.kernels.Linear\n",
        "\n",
        " - gpflow.kernels.White\n",
        "\n",
        " - gpflow.kernels.Matern12\n",
        "\n",
        " - gpflow.kernels.Matern32\n",
        "\n",
        " - gpflow.kernels.Matern52\n",
        "\n",
        " - gpflow.kernels.RBF\n",
        "\n",
        " - gpflow.kernels.Cosine\n",
        "\n",
        " - gpflow.kernels.PeriodicKernel\n",
        "\n",
        "\n",
        "Let's start with a Matern 5/2 kernel in one dimension:"
      ]
    },
    {
      "cell_type": "code",
      "execution_count": null,
      "metadata": {
        "id": "OZSHrjAWXs6u"
      },
      "outputs": [],
      "source": [
        "k = gpflow.kernels.Matern52(input_dim=1, variance=1., lengthscales=0.2)"
      ]
    },
    {
      "cell_type": "markdown",
      "metadata": {
        "id": "55biDVYBXs6u"
      },
      "source": [
        "A summary of the kernel can be obtained using the command `print(k)`. "
      ]
    },
    {
      "cell_type": "code",
      "execution_count": null,
      "metadata": {
        "id": "ChftrifVXs6v"
      },
      "outputs": [],
      "source": [
        "print(k)\n",
        "\n",
        "## If you are only interested in one parameter value, you can also do\n",
        "print(k.variance.value)\n",
        "print(k.lengthscales.value)"
      ]
    },
    {
      "cell_type": "markdown",
      "metadata": {
        "id": "b3i5L9JpXs6v"
      },
      "source": [
        "Since a kernel $k(.,.)$ is a function of two inputs (plus some parameters), it is common to freeze one of the variable to a given value (say $0.5$) and to plot the kernel as a function of the remaining one:"
      ]
    },
    {
      "cell_type": "code",
      "execution_count": null,
      "metadata": {
        "scrolled": true,
        "id": "MMVCs3AUXs6v"
      },
      "outputs": [],
      "source": [
        "x_grid = np.linspace(0, 1, 100).reshape(100,1)     # get 100 points evenly spaced shaped as a column vector\n",
        "plt.plot(x_grid, k.compute_K(x_grid, np.array([[.5]])))\n",
        "plt.ylim((0,1.2));"
      ]
    },
    {
      "cell_type": "markdown",
      "metadata": {
        "id": "QjjOZHefXs6w"
      },
      "source": [
        "### Exercise 1:\n",
        "\n",
        "a) Here is how to change the `variance` and `lengthscales` kernel parameters. What are their influence on the covariance function? "
      ]
    },
    {
      "cell_type": "code",
      "execution_count": null,
      "metadata": {
        "id": "Px_7jHjRXs6w"
      },
      "outputs": [],
      "source": [
        "k.variance = 0.5\n",
        "k.lengthscales = 1."
      ]
    },
    {
      "cell_type": "markdown",
      "metadata": {
        "id": "bFdBj8dWXs6x"
      },
      "source": [
        "b) Since the kernel corresponds to the covariance between the GP values:\n",
        "$$ k(x,y) = cov(Y(x), Y(y))$$\n",
        "What should that imply for the GP samples?\n",
        "\n",
        "c) plot three other covariance functions, do they all look like \"hat functions\"?"
      ]
    },
    {
      "cell_type": "markdown",
      "metadata": {
        "id": "zyg5wiXtXs6x"
      },
      "source": [
        "## 2.   Sampling from a Gaussian Process\n",
        "\n",
        "By definition, the values taken by a GP evaluated on a grid follow a multivariate normal distribution. Given the mean function and the kernel we can evaluate them on a grid and use a multivariate normal sampler to  plot some samples."
      ]
    },
    {
      "cell_type": "code",
      "execution_count": null,
      "metadata": {
        "id": "_ZrJzWVqXs6y"
      },
      "outputs": [],
      "source": [
        "k = gpflow.kernels.Matern52(input_dim=1, variance=1., lengthscales=0.2)\n",
        "\n",
        "mu = 0 * x_grid.flatten()            # vector of the means, it is just zero here.\n",
        "C = k.compute_K(x_grid, x_grid)      # compute the covariance matrix associated with inputs x_grid\n",
        "\n",
        "# Generate 20 separate samples paths from a Gaussian with mean mu and covariance C\n",
        "Z = np.random.multivariate_normal(mu,C,20)\n",
        "\n",
        "# plot them all\n",
        "plt.plot(x_grid, Z.T);"
      ]
    },
    {
      "cell_type": "markdown",
      "metadata": {
        "id": "X4_ygbj9Xs6y"
      },
      "source": [
        "### Exercise 2\n",
        "\n",
        "a) Modify the above code to change the kernel and the mean function. What is the effect on the samples? Can you find a kernel such that the samples are continuous but not differentiable? One the other hand, can you find a kernel such that the samples are extremely smooth?\n",
        "\n",
        "b) Investigate the influence of the kernel parameters on the samples. For example, try a lengthscale of 0.01, and a lengthscale of 10. Are the effects in line with your answer from the previous exercise? \n"
      ]
    },
    {
      "cell_type": "markdown",
      "metadata": {
        "id": "l4B-wzPRXs6z"
      },
      "source": [
        "## 3.  A Gaussian Process Regression Model\n",
        "\n",
        "We will now combine the Gaussian process prior with some data to form a GP regression model with GPflow. We will generate data from the function $f ( x ) = − \\cos(\\pi x ) + \\sin(4\\pi x )$ over $[0, 1]$, adding some noise to give $y(x) = f(x) + \\epsilon$, with the noise being Gaussian distributed, $\\epsilon \\sim \\mathcal{N}(0, 0.01)$."
      ]
    },
    {
      "cell_type": "code",
      "execution_count": null,
      "metadata": {
        "id": "gpSvXwh7Xs6z"
      },
      "outputs": [],
      "source": [
        "def test_function(x):\n",
        "    y = -np.cos(np.pi*x) + np.sin(4*np.pi*x) + np.random.normal(loc=0.0, scale=0.1, size=x.shape) \n",
        "    return(4*y)\n",
        "\n",
        "X = np.linspace(0.05, 0.95, 10).reshape(10, 1)\n",
        "Y = test_function(X)\n",
        "\n",
        "plt.plot(X, Y, 'kx', mew=1.5)"
      ]
    },
    {
      "cell_type": "markdown",
      "metadata": {
        "id": "fQWvFHx5Xs60"
      },
      "source": [
        "We are now going to reconstruct an approximation of the test function using only this data, and the prior knowledge that the function is very smooth (i.e. infinitely differentiable).\n",
        "\n",
        "### Exercise 3\n",
        "\n",
        "a) What kernel would you suggest in order to account for this prior knowledge? \n",
        "\n",
        "b) Similarly, can you hand pick reasonable values for the `variance` and `lengthscales` for this problem? \n",
        "\n",
        "c) Update the lines below accordingly."
      ]
    },
    {
      "cell_type": "code",
      "execution_count": null,
      "metadata": {
        "id": "uZ8V3L3cXs60"
      },
      "outputs": [],
      "source": [
        "k = gpflow.kernels.Matern32(input_dim=1, variance=1., lengthscales=.2)\n",
        "k.lengthscales = 1.\n",
        "k.variance = 0.5"
      ]
    },
    {
      "cell_type": "markdown",
      "metadata": {
        "id": "Q8r3kBDqXs61"
      },
      "source": [
        "Creating a GP regression model is then quite simple:"
      ]
    },
    {
      "cell_type": "code",
      "execution_count": null,
      "metadata": {
        "id": "xSgGYWCqXs61"
      },
      "outputs": [],
      "source": [
        "m = gpflow.models.GPR(X, Y, k)\n",
        "print(m)"
      ]
    },
    {
      "cell_type": "markdown",
      "metadata": {
        "id": "BaCur3-7Xs61"
      },
      "source": [
        "Now, let's plot our model predictions!"
      ]
    },
    {
      "cell_type": "code",
      "execution_count": null,
      "metadata": {
        "id": "uLj4ZuK2Xs61"
      },
      "outputs": [],
      "source": [
        "def plot(x_grid, m):\n",
        "    mean_pred, var_pred = m.predict_f(x_grid)\n",
        "    upper_95 = mean_pred + 2*np.sqrt(var_pred)\n",
        "    lower_95 = mean_pred - 2*np.sqrt(var_pred)\n",
        "\n",
        "    plt.figure(figsize=(10,7))\n",
        "    plt.plot(x_grid, mean_pred, color='#204a87')\n",
        "    plt.fill_between(x_grid[:,0], lower_95[:,0], upper_95[:,0], color='#204a87', alpha=.2)\n",
        "    plt.plot(m.X.read_value(), m.Y.read_value(), 'kx', mew=1.5);\n",
        "\n",
        "plot(x_grid, m)"
      ]
    },
    {
      "cell_type": "markdown",
      "metadata": {
        "id": "ANYgjc_PXs62"
      },
      "source": [
        "The prediction variance is quite wrong on this example! The next exercise is about setting it right."
      ]
    },
    {
      "cell_type": "markdown",
      "metadata": {
        "id": "bVP35ASDXs62"
      },
      "source": [
        "### Exercise 4\n",
        "\n",
        "*a)* By default, the noise variance is set to 1 when the model is created. You can modify this by assigning a new value by running `m.likelihood.variance = 0.1`. Can you tweak this parameter to obtain a more sensible model?"
      ]
    },
    {
      "cell_type": "markdown",
      "metadata": {
        "id": "rRd0Kpf2Xs63"
      },
      "source": [
        "*b)* What happen to the model predition if you change the kernel paramerers (you can directly assign values to `m.kern.variance` and `m.kern.lengthscales`)? Is that in accordance with your answers from Ex 2.b? \n",
        "\n",
        "As we have seen previously, generating samples from a GP requires the vector corresponding to the mean function and the covariance matrix. The first one is already computed as `mean_pred`, but `var_pred` is only a vector of the variance values and not the full covariance matrix. \n",
        "\n",
        "*c)* Use the `m.predict_f_full_cov` function to obtain the full covariance matrix. Generate and plot samples from the posterior distribution."
      ]
    },
    {
      "cell_type": "markdown",
      "metadata": {
        "id": "LpbsSXtGXs63"
      },
      "source": [
        "## 4.  Covariance Function Parameter Estimation"
      ]
    },
    {
      "cell_type": "markdown",
      "metadata": {
        "id": "Go809-P2Xs63"
      },
      "source": [
        "As we have seen during the course, the parameters values can be estimated by maximizing the likelihood of the observations. Since we don’t want one of the variance to become negative during the optimization, the parameteres are by default constrained to be positive:"
      ]
    },
    {
      "cell_type": "code",
      "execution_count": null,
      "metadata": {
        "id": "-SlGdMlVXs64"
      },
      "outputs": [],
      "source": [
        "print(m)"
      ]
    },
    {
      "cell_type": "markdown",
      "metadata": {
        "id": "c0JlsNheXs64"
      },
      "source": [
        "Now we can optimize the model:"
      ]
    },
    {
      "cell_type": "code",
      "execution_count": null,
      "metadata": {
        "id": "LLzJWxlhXs64"
      },
      "outputs": [],
      "source": [
        "gpflow.train.ScipyOptimizer().minimize(m)\n",
        "\n",
        "## print m\n",
        "print(m.kern.variance.read_value())\n",
        "print(m.kern.lengthscales.read_value())\n",
        "print(m.likelihood.variance.read_value())"
      ]
    },
    {
      "cell_type": "code",
      "execution_count": null,
      "metadata": {
        "id": "Z_UEIdNAXs65"
      },
      "outputs": [],
      "source": [
        "plot(x_grid, m)"
      ]
    },
    {
      "cell_type": "markdown",
      "metadata": {
        "id": "wgvUtYv6Xs65"
      },
      "source": [
        "## 5. Computing the mean value of the test function\n",
        "\n",
        "In this section, we will see that using the GP model leads to more accurate predictions than if we where to use only the raw data. We will focus here on one particular quantity to predict: the average value of the test function (i.e. its ingregral). Since this is a toy example, calculus can show that this average value is exactly 0. \n",
        "\n",
        "Monte-Carlo is the cannonical method for approximating average values. It consists in taking the average value of a very large number of data points with inputs distributed uniformly:"
      ]
    },
    {
      "cell_type": "code",
      "execution_count": null,
      "metadata": {
        "id": "YnsOd-7MXs66"
      },
      "outputs": [],
      "source": [
        "X = np.random.uniform(0, 1, (1000,1))\n",
        "Y = test_function(X)\n",
        "\n",
        "plt.plot(X.T, Y.T, 'kx')\n",
        "np.mean(Y)"
      ]
    },
    {
      "cell_type": "markdown",
      "metadata": {
        "id": "D84EpqlQXs68"
      },
      "source": [
        "We can see that the result is approximated pretty well but we had to use 1000 datapoints! In practice, it is often the case that the number of data points is limited. Let's see if we can retreive this value with only 20 observations of the function:"
      ]
    },
    {
      "cell_type": "code",
      "execution_count": null,
      "metadata": {
        "id": "yp9DthbiXs69"
      },
      "outputs": [],
      "source": [
        "X = np.random.uniform(0, 1, (20,1))\n",
        "Y = test_function(X)\n",
        "\n",
        "plt.plot(X.T, Y.T, 'kx')\n",
        "np.mean(Y)"
      ]
    },
    {
      "cell_type": "markdown",
      "metadata": {
        "id": "Da-YEH3bXs6-"
      },
      "source": [
        "The quality of the approximation is definitely not as good as before. On the other hand, we can use those 10  points to build a GP regression model and then approximate the average value of the test function by the average value of the posterior mean:"
      ]
    },
    {
      "cell_type": "code",
      "execution_count": null,
      "metadata": {
        "id": "aQARc-opXs6-"
      },
      "outputs": [],
      "source": [
        "k = gpflow.kernels.Matern32(input_dim=1, variance=1., lengthscales=.2)\n",
        "\n",
        "m = gpflow.models.GPR(X, Y, k)\n",
        "m.compile()\n",
        "\n",
        "gpflow.train.ScipyOptimizer().minimize(m)\n",
        "\n",
        "plot(x_grid, m)\n",
        "\n",
        "mean_pred, var_pred = m.predict_f(x_grid)\n",
        "np.mean(mean_pred)"
      ]
    },
    {
      "cell_type": "markdown",
      "metadata": {
        "id": "zGNFi_oPXs6_"
      },
      "source": [
        "### Exercise 5\n",
        "\n",
        "*a)* Which of the two methods based on 20 data points seems to return a value closest to the target? Can you tell why?\n",
        "\n",
        "*b)* For now we have only used the mean prediction and not the uncertainty that is also provided by the model. To properly quantify the uncertainty, we can generate samples from the conditional distribution and then compute the average value of the samples. This average value will be random since it is based on a random sample paths and it is possible to compute its mean and variance. Can you write the code that does so?\n",
        "\n",
        "*c)* (advanced) In this case, the distribution of the average values of the samples can be computed analytically using the linearity of the expectation and the covariance. Give it a shot if you want to!\n"
      ]
    },
    {
      "cell_type": "markdown",
      "metadata": {
        "id": "PjpglE2TXs6_"
      },
      "source": [
        "## Further exercises: Combining Covariance Functions"
      ]
    },
    {
      "cell_type": "markdown",
      "metadata": {
        "id": "SsnfS2FAXs6_"
      },
      "source": [
        "In GPflow you can easily combine covariance functions you have created using the sum and product operators, `+` and `*`. So, for example, if we wish to combine an exponentiated quadratic covariance with a Matern 5/2 then we can write"
      ]
    },
    {
      "cell_type": "code",
      "execution_count": null,
      "metadata": {
        "id": "ir1axuKJXs7A"
      },
      "outputs": [],
      "source": [
        "kern1 = gpflow.kernels.RBF(1, variance=1., lengthscales=2.)\n",
        "kern2 = gpflow.kernels.Matern52(1, variance=2., lengthscales=4.)\n",
        "kern = kern1 + kern2\n",
        "\n",
        "print(kern)"
      ]
    },
    {
      "cell_type": "markdown",
      "metadata": {
        "id": "gtgkwMiJXs7A"
      },
      "source": [
        "Or if we wanted to multiply them we can write"
      ]
    },
    {
      "cell_type": "code",
      "execution_count": null,
      "metadata": {
        "id": "vJmH1SeiXs7B"
      },
      "outputs": [],
      "source": [
        "kern = kern1 * kern2\n",
        "\n",
        "print(kern)"
      ]
    },
    {
      "cell_type": "markdown",
      "metadata": {
        "id": "H9iu1uTmXs7B"
      },
      "source": [
        "### Exercise 5\n",
        "\n",
        "a) Generate samples from the above kernels. \n",
        "\n",
        "b) Can you build a kernel such that the samples look similar to the following plots?\n",
        "\n",
        "![samples to replicate](https://github.com/mlss-2019/tutorials/blob/master/gaussian_processes/img/mystery_samples.png?raw=1)"
      ]
    },
    {
      "cell_type": "code",
      "execution_count": null,
      "metadata": {
        "id": "5HF7DEcRXs7C"
      },
      "outputs": [],
      "source": [
        ""
      ]
    }
  ],
  "metadata": {
    "anaconda-cloud": {},
    "kernelspec": {
      "display_name": "Python 3",
      "language": "python",
      "name": "python3"
    },
    "language_info": {
      "codemirror_mode": {
        "name": "ipython",
        "version": 3
      },
      "file_extension": ".py",
      "mimetype": "text/x-python",
      "name": "python",
      "nbconvert_exporter": "python",
      "pygments_lexer": "ipython3",
      "version": "3.6.6"
    },
    "colab": {
      "name": "Lab2 - GPflow and GP Regression.ipynb",
      "provenance": []
    }
  },
  "nbformat": 4,
  "nbformat_minor": 0
}